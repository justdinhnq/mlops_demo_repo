{
 "cells": [
  {
   "cell_type": "markdown",
   "metadata": {},
   "source": [
    "1. Install AzureML-SDK\n",
    "2. Import dependencies (Workspace, Model, Environment, CondaDependencies, InferenceConfig, AciWebservice, Webservice)\n",
    "3. Create a Resource Group from Azure Portal\n",
    "4. Register Model in Azure ML\n",
    "5. Create a Conda environment for my scikit-learn model\n",
    "6. Create an Inference Configuration\n",
    "7. Specify deplloyment configuration for ACI\n",
    "8. Deploy and Test model\n",
    "\n",
    "Note:\n",
    "- ACI (Azure container instances): a service enables to deploy (Linux and Windows) containers on Azure public cloud without having to provision or manage any underlying infrastructure.\n",
    "- AciWebservice: \n",
    "    - represents a ML model deployed as a web service endpoint on Azure Container Instances\n",
    "    - a deployed service created from a model, script, and associated files. \n",
    "    - Output: a load-balanced, HTTP endpoint with a REST API\n",
    "        - can send data to this API and receive the prediction returned by the model\n",
    "- Inference Configuration: \n",
    "    - an input parameter for Model deployment-related actions (deploy, profile, package)\n",
    "    - represents configuration settings for a custom environment used for deployment"
   ]
  },
  {
   "cell_type": "code",
   "execution_count": null,
   "metadata": {
    "vscode": {
     "languageId": "plaintext"
    }
   },
   "outputs": [],
   "source": [
    "#!pip install azureml-sdk\n",
    "# quiet without displaying any output <=> -q\n",
    "!pip install -q azureml-sdk "
   ]
  },
  {
   "cell_type": "code",
   "execution_count": null,
   "metadata": {
    "vscode": {
     "languageId": "plaintext"
    }
   },
   "outputs": [],
   "source": [
    "import os\n",
    "import json\n",
    "import requests\n",
    "\n",
    "from azureml.core import Workspace\n",
    "from azureml.core.model import Model\n",
    "from azureml.core.environment import Environment\n",
    "from azureml.core.conda_dependencies import CondaDependencies\n",
    "from azureml.core.model import InferenceConfig\n",
    "from azureml.core.webservice import AciWebservice, Webservice"
   ]
  },
  {
   "cell_type": "code",
   "execution_count": null,
   "metadata": {
    "vscode": {
     "languageId": "plaintext"
    }
   },
   "outputs": [],
   "source": [
    "## Loading the configuration file\n",
    "# use \n",
    "#  1) .env \n",
    "#  2) load_dotenv files from python-dotenv module\n",
    "\n",
    "config_file_path = \"config.json\"\n",
    "\n",
    "# Read JSON data into a dictionary\n",
    "with open(config_file_path, 'r') as file:\n",
    "    data = json.load(file)\n",
    "    \n",
    "subscription_id = data[\"subscription_id\"]\n",
    "resource_group = data[\"resource_group\"]\n",
    "workspace_name = data[\"workspace_name\"]\n",
    "region = data[\"region\"]"
   ]
  },
  {
   "cell_type": "code",
   "execution_count": null,
   "metadata": {},
   "outputs": [],
   "source": [
    "print(resource_group)\n",
    "print(workspace_name)\n",
    "print(region)"
   ]
  },
  {
   "cell_type": "markdown",
   "metadata": {},
   "source": [
    "#### Step 1: create a Resource Group from Azure Portal"
   ]
  },
  {
   "cell_type": "code",
   "execution_count": null,
   "metadata": {},
   "outputs": [],
   "source": [
    "## Create a workspace\n",
    "ws = Workspace.create(\n",
    "                        name=workspace_name,\n",
    "                        subscription_id=subscription_id,\n",
    "                        resource_group=resource_group,\n",
    "                        location=region\n",
    ")"
   ]
  },
  {
   "cell_type": "code",
   "execution_count": null,
   "metadata": {},
   "outputs": [],
   "source": [
    "print(f'Workspace {workspace_name} is created')"
   ]
  },
  {
   "cell_type": "code",
   "execution_count": null,
   "metadata": {},
   "outputs": [],
   "source": [
    "# specify the path to your model file\n",
    "model_path = 'diabetes_model.pkl'\n",
    "model_name = 'diabetes_prediction_model'"
   ]
  },
  {
   "cell_type": "markdown",
   "metadata": {},
   "source": [
    "#### Step 2: register the model in Azure ML"
   ]
  },
  {
   "cell_type": "code",
   "execution_count": null,
   "metadata": {},
   "outputs": [],
   "source": [
    "registered_model = Model.register(\n",
    "                                    model_path=model_path,\n",
    "                                    model_name=model_name,\n",
    "                                    workspace=ws\n",
    ")"
   ]
  },
  {
   "cell_type": "markdown",
   "metadata": {},
   "source": [
    "#### Step 3: create a Conda environment for my scikit-learn model"
   ]
  },
  {
   "cell_type": "code",
   "execution_count": null,
   "metadata": {},
   "outputs": [],
   "source": [
    "conda_env = Environment('my-conda-env')\n",
    "conda_env.python.conda_dependencies = CondaDependencies.create(\n",
    "    conda_packages=['scikit-learn']\n",
    ")"
   ]
  },
  {
   "cell_type": "markdown",
   "metadata": {},
   "source": [
    "#### Step 4: create an Inference Configuration"
   ]
  },
  {
   "cell_type": "code",
   "execution_count": null,
   "metadata": {},
   "outputs": [],
   "source": [
    "inference_config = InferenceConfig(\n",
    "    entry_script='score.py', environment=conda_env\n",
    ")"
   ]
  },
  {
   "cell_type": "markdown",
   "metadata": {},
   "source": [
    "#### Step 5: specify deployment configuration for ACI"
   ]
  },
  {
   "cell_type": "code",
   "execution_count": null,
   "metadata": {},
   "outputs": [],
   "source": [
    "aci_config = AciWebservice.deploy_configuration(\n",
    "    cpu_cores=1, memory_gb=1\n",
    ")"
   ]
  },
  {
   "cell_type": "code",
   "execution_count": null,
   "metadata": {},
   "outputs": [],
   "source": [
    "service = Model.deploy(\n",
    "    workspace=ws,\n",
    "    name='diabetes-prediction-service',\n",
    "    models=[registered_model],\n",
    "    inference_config=inference_config,\n",
    "    deployment_config=aci_config\n",
    ")\n",
    "service.wait_for_deployment(show_output=True)"
   ]
  },
  {
   "cell_type": "code",
   "execution_count": null,
   "metadata": {},
   "outputs": [],
   "source": [
    "scoring_uri = service.scoring_uri\n",
    "scoring_uri"
   ]
  },
  {
   "cell_type": "markdown",
   "metadata": {},
   "source": [
    "### Cleaning up all the created resources"
   ]
  },
  {
   "cell_type": "code",
   "execution_count": null,
   "metadata": {},
   "outputs": [],
   "source": [
    "# Delete the service\n",
    "service_name = 'diabetes-prediction-service'\n",
    "\n",
    "service = ws.webservices[service_name]\n",
    "service.delete()\n",
    "\n",
    "# Delete the model\n",
    "model_name = 'diabetes_prediction_model'\n",
    "registered_model = ws.models[model_name]\n",
    "registered_model.delete()\n",
    "\n",
    "# Delete the workspace\n",
    "ws.delete(delete_dependent_resources=True)"
   ]
  }
 ],
 "metadata": {
  "kernelspec": {
   "display_name": "Python 3 (ipykernel)",
   "language": "python",
   "name": "python3"
  },
  "language_info": {
   "codemirror_mode": {
    "name": "ipython",
    "version": 3
   },
   "file_extension": ".py",
   "mimetype": "text/x-python",
   "name": "python",
   "nbconvert_exporter": "python",
   "pygments_lexer": "ipython3",
   "version": "3.11.5"
  }
 },
 "nbformat": 4,
 "nbformat_minor": 2
}
